{
 "cells": [
  {
   "cell_type": "code",
   "execution_count": 1,
   "metadata": {},
   "outputs": [],
   "source": [
    "import requests\n",
    "import pandas as pd\n",
    "import os\n",
    "import json\n",
    "from requests.auth import HTTPBasicAuth\n",
    "from dotenv import load_dotenv, find_dotenv"
   ]
  },
  {
   "cell_type": "markdown",
   "metadata": {},
   "source": [
    "## Fetch API key"
   ]
  },
  {
   "cell_type": "code",
   "execution_count": 2,
   "metadata": {},
   "outputs": [],
   "source": [
    "load_dotenv(find_dotenv())\n",
    "API_KEY = os.environ.get(\"URN_API_KEY\")"
   ]
  },
  {
   "cell_type": "markdown",
   "metadata": {},
   "source": [
    "## Export treatment assignments for all participants\n",
    "\n",
    "This will use `/study_participants` endpoint. This endpoint requires the following parameters:\n",
    "* api_key - your API key\n",
    "* study - study name\n",
    "\n",
    "Here is an example API call"
   ]
  },
  {
   "cell_type": "code",
   "execution_count": 3,
   "metadata": {},
   "outputs": [],
   "source": [
    "dct_param = {'api_key': API_KEY,\n",
    "             'study': 'CHS JCOIN HUB'}\n",
    "api_url = 'http://localhost:5000/study_participants'\n",
    "response = requests.get(api_url, params=dct_param)"
   ]
  },
  {
   "cell_type": "markdown",
   "metadata": {},
   "source": [
    "The URL for this request will be:"
   ]
  },
  {
   "cell_type": "code",
   "execution_count": 4,
   "metadata": {},
   "outputs": [
    {
     "data": {
      "text/plain": [
       "'http://localhost:5000/study_participants?api_key=358e2479a67cd66f989e1f138c1276f86d133acffc7d0feb25e886ecd4fe94f1&study=CHS+JCOIN+HUB'"
      ]
     },
     "execution_count": 4,
     "metadata": {},
     "output_type": "execute_result"
    }
   ],
   "source": [
    "response.url"
   ]
  },
  {
   "cell_type": "code",
   "execution_count": 5,
   "metadata": {},
   "outputs": [
    {
     "data": {
      "text/plain": [
       "dict_keys(['message', 'results', 'status'])"
      ]
     },
     "execution_count": 5,
     "metadata": {},
     "output_type": "execute_result"
    }
   ],
   "source": [
    "response.json().keys()"
   ]
  },
  {
   "cell_type": "code",
   "execution_count": 6,
   "metadata": {},
   "outputs": [
    {
     "data": {
      "text/html": [
       "<div>\n",
       "<style scoped>\n",
       "    .dataframe tbody tr th:only-of-type {\n",
       "        vertical-align: middle;\n",
       "    }\n",
       "\n",
       "    .dataframe tbody tr th {\n",
       "        vertical-align: top;\n",
       "    }\n",
       "\n",
       "    .dataframe thead th {\n",
       "        text-align: right;\n",
       "    }\n",
       "</style>\n",
       "<table border=\"1\" class=\"dataframe\">\n",
       "  <thead>\n",
       "    <tr style=\"text-align: right;\">\n",
       "      <th></th>\n",
       "      <th>bg_state</th>\n",
       "      <th>datetime</th>\n",
       "      <th>f_african_am</th>\n",
       "      <th>f_com_supervision</th>\n",
       "      <th>f_crime_violence</th>\n",
       "      <th>f_days_in_jail</th>\n",
       "      <th>f_days_ou</th>\n",
       "      <th>f_days_stu</th>\n",
       "      <th>f_electronic_monitoring</th>\n",
       "      <th>f_hispanic</th>\n",
       "      <th>f_local_site</th>\n",
       "      <th>f_overdose_hist</th>\n",
       "      <th>f_prior_sutx</th>\n",
       "      <th>f_sex</th>\n",
       "      <th>f_sud</th>\n",
       "      <th>f_under_50</th>\n",
       "      <th>id</th>\n",
       "      <th>trt</th>\n",
       "      <th>user</th>\n",
       "    </tr>\n",
       "  </thead>\n",
       "  <tbody>\n",
       "    <tr>\n",
       "      <th>0</th>\n",
       "      <td>{'bit_generator': 'PCG64', 'has_uint32': 1, 's...</td>\n",
       "      <td>Sat, 02 Apr 2022 02:52:13 GMT</td>\n",
       "      <td>1=Yes (including mixed)</td>\n",
       "      <td>1=yes (&gt;0 days)</td>\n",
       "      <td>3=High (3+)</td>\n",
       "      <td>1=Low (0-12)</td>\n",
       "      <td>3=high (45 or more)</td>\n",
       "      <td>1=low (0-12)</td>\n",
       "      <td>2=Other</td>\n",
       "      <td>1=Yes</td>\n",
       "      <td>70=Will County</td>\n",
       "      <td>1=yes (1+)</td>\n",
       "      <td>2= any other SUD treatment [EU10&gt;0]</td>\n",
       "      <td>1=Male</td>\n",
       "      <td>0=low(0)</td>\n",
       "      <td>1=yes (18-49)</td>\n",
       "      <td>0</td>\n",
       "      <td>RMC-Q</td>\n",
       "      <td>dummy</td>\n",
       "    </tr>\n",
       "    <tr>\n",
       "      <th>1</th>\n",
       "      <td>{'bit_generator': 'PCG64', 'has_uint32': 0, 's...</td>\n",
       "      <td>Sat, 02 Apr 2022 02:52:13 GMT</td>\n",
       "      <td>1=Yes (including mixed)</td>\n",
       "      <td>2=other</td>\n",
       "      <td>3=High (3+)</td>\n",
       "      <td>1=Low (0-12)</td>\n",
       "      <td>3=high (45 or more)</td>\n",
       "      <td>3=high (45 or more)</td>\n",
       "      <td>1=Yes</td>\n",
       "      <td>2=Other</td>\n",
       "      <td>60=Tazewell County</td>\n",
       "      <td>2=No (0)</td>\n",
       "      <td>3=none</td>\n",
       "      <td>1=Male</td>\n",
       "      <td>3= high (3-5)</td>\n",
       "      <td>2=Other (50 or older)</td>\n",
       "      <td>1</td>\n",
       "      <td>MART</td>\n",
       "      <td>dummy</td>\n",
       "    </tr>\n",
       "    <tr>\n",
       "      <th>2</th>\n",
       "      <td>{'bit_generator': 'PCG64', 'has_uint32': 1, 's...</td>\n",
       "      <td>Sat, 02 Apr 2022 02:52:13 GMT</td>\n",
       "      <td>1=Yes (including mixed)</td>\n",
       "      <td>1=yes (&gt;0 days)</td>\n",
       "      <td>2=Moderate (1-2)</td>\n",
       "      <td>3=High (91+)</td>\n",
       "      <td>1=low (0-12)</td>\n",
       "      <td>2=moderate(13-44)</td>\n",
       "      <td>1=Yes</td>\n",
       "      <td>1=Yes</td>\n",
       "      <td>60=Tazewell County</td>\n",
       "      <td>2=No (0)</td>\n",
       "      <td>3=none</td>\n",
       "      <td>1=Male</td>\n",
       "      <td>2= moderate (1-2)</td>\n",
       "      <td>1=yes (18-49)</td>\n",
       "      <td>2</td>\n",
       "      <td>RMC-A</td>\n",
       "      <td>dummy</td>\n",
       "    </tr>\n",
       "    <tr>\n",
       "      <th>3</th>\n",
       "      <td>{'bit_generator': 'PCG64', 'has_uint32': 0, 's...</td>\n",
       "      <td>Sat, 02 Apr 2022 02:52:13 GMT</td>\n",
       "      <td>1=Yes (including mixed)</td>\n",
       "      <td>2=other</td>\n",
       "      <td>3=High (3+)</td>\n",
       "      <td>1=Low (0-12)</td>\n",
       "      <td>3=high (45 or more)</td>\n",
       "      <td>1=low (0-12)</td>\n",
       "      <td>2=Other</td>\n",
       "      <td>1=Yes</td>\n",
       "      <td>30=Dupage County</td>\n",
       "      <td>1=yes (1+)</td>\n",
       "      <td>2= any other SUD treatment [EU10&gt;0]</td>\n",
       "      <td>1=Male</td>\n",
       "      <td>2= moderate (1-2)</td>\n",
       "      <td>1=yes (18-49)</td>\n",
       "      <td>3</td>\n",
       "      <td>RMC-Q</td>\n",
       "      <td>dummy</td>\n",
       "    </tr>\n",
       "    <tr>\n",
       "      <th>4</th>\n",
       "      <td>{'bit_generator': 'PCG64', 'has_uint32': 0, 's...</td>\n",
       "      <td>Sat, 02 Apr 2022 02:52:13 GMT</td>\n",
       "      <td>1=Yes (including mixed)</td>\n",
       "      <td>2=other</td>\n",
       "      <td>3=High (3+)</td>\n",
       "      <td>2=Moderate (13-90)</td>\n",
       "      <td>3=high (45 or more)</td>\n",
       "      <td>2=moderate(13-44)</td>\n",
       "      <td>2=Other</td>\n",
       "      <td>2=Other</td>\n",
       "      <td>11=Cook County – Chicago</td>\n",
       "      <td>2=No (0)</td>\n",
       "      <td>1=any MOUD treatment (EU15=1+)</td>\n",
       "      <td>1=Male</td>\n",
       "      <td>3= high (3-5)</td>\n",
       "      <td>1=yes (18-49)</td>\n",
       "      <td>4</td>\n",
       "      <td>RMC-A</td>\n",
       "      <td>dummy</td>\n",
       "    </tr>\n",
       "  </tbody>\n",
       "</table>\n",
       "</div>"
      ],
      "text/plain": [
       "                                            bg_state  \\\n",
       "0  {'bit_generator': 'PCG64', 'has_uint32': 1, 's...   \n",
       "1  {'bit_generator': 'PCG64', 'has_uint32': 0, 's...   \n",
       "2  {'bit_generator': 'PCG64', 'has_uint32': 1, 's...   \n",
       "3  {'bit_generator': 'PCG64', 'has_uint32': 0, 's...   \n",
       "4  {'bit_generator': 'PCG64', 'has_uint32': 0, 's...   \n",
       "\n",
       "                        datetime             f_african_am f_com_supervision  \\\n",
       "0  Sat, 02 Apr 2022 02:52:13 GMT  1=Yes (including mixed)   1=yes (>0 days)   \n",
       "1  Sat, 02 Apr 2022 02:52:13 GMT  1=Yes (including mixed)           2=other   \n",
       "2  Sat, 02 Apr 2022 02:52:13 GMT  1=Yes (including mixed)   1=yes (>0 days)   \n",
       "3  Sat, 02 Apr 2022 02:52:13 GMT  1=Yes (including mixed)           2=other   \n",
       "4  Sat, 02 Apr 2022 02:52:13 GMT  1=Yes (including mixed)           2=other   \n",
       "\n",
       "   f_crime_violence      f_days_in_jail            f_days_ou  \\\n",
       "0       3=High (3+)        1=Low (0-12)  3=high (45 or more)   \n",
       "1       3=High (3+)        1=Low (0-12)  3=high (45 or more)   \n",
       "2  2=Moderate (1-2)        3=High (91+)         1=low (0-12)   \n",
       "3       3=High (3+)        1=Low (0-12)  3=high (45 or more)   \n",
       "4       3=High (3+)  2=Moderate (13-90)  3=high (45 or more)   \n",
       "\n",
       "            f_days_stu f_electronic_monitoring f_hispanic  \\\n",
       "0         1=low (0-12)                 2=Other      1=Yes   \n",
       "1  3=high (45 or more)                   1=Yes    2=Other   \n",
       "2    2=moderate(13-44)                   1=Yes      1=Yes   \n",
       "3         1=low (0-12)                 2=Other      1=Yes   \n",
       "4    2=moderate(13-44)                 2=Other    2=Other   \n",
       "\n",
       "               f_local_site f_overdose_hist  \\\n",
       "0            70=Will County      1=yes (1+)   \n",
       "1        60=Tazewell County        2=No (0)   \n",
       "2        60=Tazewell County        2=No (0)   \n",
       "3          30=Dupage County      1=yes (1+)   \n",
       "4  11=Cook County – Chicago        2=No (0)   \n",
       "\n",
       "                          f_prior_sutx   f_sex              f_sud  \\\n",
       "0  2= any other SUD treatment [EU10>0]  1=Male           0=low(0)   \n",
       "1                               3=none  1=Male      3= high (3-5)   \n",
       "2                               3=none  1=Male  2= moderate (1-2)   \n",
       "3  2= any other SUD treatment [EU10>0]  1=Male  2= moderate (1-2)   \n",
       "4       1=any MOUD treatment (EU15=1+)  1=Male      3= high (3-5)   \n",
       "\n",
       "              f_under_50 id    trt   user  \n",
       "0          1=yes (18-49)  0  RMC-Q  dummy  \n",
       "1  2=Other (50 or older)  1   MART  dummy  \n",
       "2          1=yes (18-49)  2  RMC-A  dummy  \n",
       "3          1=yes (18-49)  3  RMC-Q  dummy  \n",
       "4          1=yes (18-49)  4  RMC-A  dummy  "
      ]
     },
     "execution_count": 6,
     "metadata": {},
     "output_type": "execute_result"
    }
   ],
   "source": [
    "pd.DataFrame(response.json()['results']).head()"
   ]
  },
  {
   "cell_type": "markdown",
   "metadata": {},
   "source": [
    "### Error scenarios\n",
    "#### Request without API key"
   ]
  },
  {
   "cell_type": "code",
   "execution_count": 7,
   "metadata": {},
   "outputs": [
    {
     "name": "stdout",
     "output_type": "stream",
     "text": [
      "{\n",
      "  \"message\": \"Please pass an API key.\",\n",
      "  \"status\": 401\n",
      "}\n"
     ]
    }
   ],
   "source": [
    "dct_param = {'study': 'CHS JCOIN HUB'}\n",
    "api_url = 'http://localhost:5000/study_participants'\n",
    "response = requests.get(api_url, params=dct_param)\n",
    "print(json.dumps(response.json(), indent=2))"
   ]
  },
  {
   "cell_type": "markdown",
   "metadata": {},
   "source": [
    "#### Request with invalid API key"
   ]
  },
  {
   "cell_type": "code",
   "execution_count": 8,
   "metadata": {},
   "outputs": [
    {
     "name": "stdout",
     "output_type": "stream",
     "text": [
      "{\n",
      "  \"message\": \"Unauthorized request\",\n",
      "  \"status\": 401\n",
      "}\n"
     ]
    }
   ],
   "source": [
    "dct_param = {'study': 'CHS JCOIN HUB',\n",
    "             'api_key': 'dummy'}\n",
    "api_url = 'http://localhost:5000/study_participants'\n",
    "response = requests.get(api_url, params=dct_param)\n",
    "print(json.dumps(response.json(), indent=2))"
   ]
  },
  {
   "cell_type": "markdown",
   "metadata": {},
   "source": [
    "#### Request without study name"
   ]
  },
  {
   "cell_type": "code",
   "execution_count": 9,
   "metadata": {},
   "outputs": [
    {
     "name": "stdout",
     "output_type": "stream",
     "text": [
      "{\n",
      "  \"message\": \"Please pass a study name with your request.\",\n",
      "  \"status\": 400\n",
      "}\n"
     ]
    }
   ],
   "source": [
    "dct_param = {'api_key': API_KEY}\n",
    "api_url = 'http://localhost:5000/study_participants'\n",
    "response = requests.get(api_url, params=dct_param)\n",
    "print(json.dumps(response.json(), indent=2))"
   ]
  },
  {
   "cell_type": "markdown",
   "metadata": {},
   "source": [
    "## Export study config\n",
    "This will use `/study_config` endpoint. This endpoint requires the following parameters:\n",
    "* api_key - your API key\n",
    "* study - study name\n",
    "\n",
    "Here is an example API call"
   ]
  },
  {
   "cell_type": "code",
   "execution_count": 10,
   "metadata": {},
   "outputs": [],
   "source": [
    "dct_param = {'api_key': API_KEY,\n",
    "             'study': 'CHS JCOIN HUB'}\n",
    "api_url = 'http://localhost:5000/study_config'\n",
    "response = requests.get(api_url, params=dct_param)"
   ]
  },
  {
   "cell_type": "markdown",
   "metadata": {},
   "source": [
    "The URL for this request will be:"
   ]
  },
  {
   "cell_type": "code",
   "execution_count": 11,
   "metadata": {},
   "outputs": [
    {
     "data": {
      "text/plain": [
       "'http://localhost:5000/study_config?api_key=358e2479a67cd66f989e1f138c1276f86d133acffc7d0feb25e886ecd4fe94f1&study=CHS+JCOIN+HUB'"
      ]
     },
     "execution_count": 11,
     "metadata": {},
     "output_type": "execute_result"
    }
   ],
   "source": [
    "response.url"
   ]
  },
  {
   "cell_type": "code",
   "execution_count": 12,
   "metadata": {},
   "outputs": [
    {
     "data": {
      "text/plain": [
       "dict_keys(['message', 'results', 'status', 'user'])"
      ]
     },
     "execution_count": 12,
     "metadata": {},
     "output_type": "execute_result"
    }
   ],
   "source": [
    "response.json().keys()"
   ]
  },
  {
   "cell_type": "code",
   "execution_count": 13,
   "metadata": {},
   "outputs": [
    {
     "name": "stdout",
     "output_type": "stream",
     "text": [
      "{\n",
      "  \"message\": \"Success\",\n",
      "  \"results\": {\n",
      "    \"D\": \"chisquare\",\n",
      "    \"alpha\": 0,\n",
      "    \"beta\": 1,\n",
      "    \"factors\": {\n",
      "      \"african_am\": [\n",
      "        \"1=Yes (including mixed)\",\n",
      "        \"2=Other\"\n",
      "      ],\n",
      "      \"com_supervision\": [\n",
      "        \"1=yes (>0 days)\",\n",
      "        \"2=other\"\n",
      "      ],\n",
      "      \"crime_violence\": [\n",
      "        \"1=low (0)\",\n",
      "        \"2=Moderate (1-2)\",\n",
      "        \"3=High (3+)\"\n",
      "      ],\n",
      "      \"days_in_jail\": [\n",
      "        \"1=Low (0-12)\",\n",
      "        \"2=Moderate (13-90)\",\n",
      "        \"3=High (91+)\"\n",
      "      ],\n",
      "      \"days_ou\": [\n",
      "        \"1=low (0-12)\",\n",
      "        \"2=moderate(13-44)\",\n",
      "        \"3=high (45 or more)\"\n",
      "      ],\n",
      "      \"days_stu\": [\n",
      "        \"1=low (0-12)\",\n",
      "        \"2=moderate(13-44)\",\n",
      "        \"3=high (45 or more)\"\n",
      "      ],\n",
      "      \"electronic_monitoring\": [\n",
      "        \"1=Yes\",\n",
      "        \"2=Other\"\n",
      "      ],\n",
      "      \"hispanic\": [\n",
      "        \"1=Yes\",\n",
      "        \"2=Other\"\n",
      "      ],\n",
      "      \"local_site\": [\n",
      "        \"11=Cook County \\u2013 Chicago\",\n",
      "        \"30=Dupage County\",\n",
      "        \"40=Grundy County\",\n",
      "        \"50=Mclean County\",\n",
      "        \"60=Tazewell County\",\n",
      "        \"70=Will County\"\n",
      "      ],\n",
      "      \"overdose_hist\": [\n",
      "        \"1=yes (1+)\",\n",
      "        \"2=No (0)\"\n",
      "      ],\n",
      "      \"prior_sutx\": [\n",
      "        \"1=any MOUD treatment (EU15=1+)\",\n",
      "        \"2= any other SUD treatment [EU10>0]\",\n",
      "        \"3=none\"\n",
      "      ],\n",
      "      \"sex\": [\n",
      "        \"1=Male\",\n",
      "        \"2=Other\"\n",
      "      ],\n",
      "      \"sud\": [\n",
      "        \"0=low(0)\",\n",
      "        \"2= moderate (1-2)\",\n",
      "        \"3= high (3-5)\"\n",
      "      ],\n",
      "      \"under_50\": [\n",
      "        \"1=yes (18-49)\",\n",
      "        \"2=Other (50 or older)\"\n",
      "      ]\n",
      "    },\n",
      "    \"starting_seed\": 100,\n",
      "    \"treatments\": [\n",
      "      \"MART\",\n",
      "      \"RMC-Q\",\n",
      "      \"RMC-A\"\n",
      "    ],\n",
      "    \"urn_selection\": \"method1\",\n",
      "    \"w\": 1\n",
      "  },\n",
      "  \"status\": 200,\n",
      "  \"user\": \"manu\"\n",
      "}\n"
     ]
    }
   ],
   "source": [
    "print(json.dumps(response.json(), indent=2))"
   ]
  },
  {
   "cell_type": "markdown",
   "metadata": {},
   "source": [
    "Factors and their levels for this study are"
   ]
  },
  {
   "cell_type": "code",
   "execution_count": 14,
   "metadata": {},
   "outputs": [
    {
     "data": {
      "text/html": [
       "<div>\n",
       "<style scoped>\n",
       "    .dataframe tbody tr th:only-of-type {\n",
       "        vertical-align: middle;\n",
       "    }\n",
       "\n",
       "    .dataframe tbody tr th {\n",
       "        vertical-align: top;\n",
       "    }\n",
       "\n",
       "    .dataframe thead th {\n",
       "        text-align: right;\n",
       "    }\n",
       "</style>\n",
       "<table border=\"1\" class=\"dataframe\">\n",
       "  <thead>\n",
       "    <tr style=\"text-align: right;\">\n",
       "      <th></th>\n",
       "      <th>african_am</th>\n",
       "      <th>com_supervision</th>\n",
       "      <th>crime_violence</th>\n",
       "      <th>days_in_jail</th>\n",
       "      <th>days_ou</th>\n",
       "      <th>days_stu</th>\n",
       "      <th>electronic_monitoring</th>\n",
       "      <th>hispanic</th>\n",
       "      <th>local_site</th>\n",
       "      <th>overdose_hist</th>\n",
       "      <th>prior_sutx</th>\n",
       "      <th>sex</th>\n",
       "      <th>sud</th>\n",
       "      <th>under_50</th>\n",
       "    </tr>\n",
       "  </thead>\n",
       "  <tbody>\n",
       "    <tr>\n",
       "      <th>0</th>\n",
       "      <td>1=Yes (including mixed)</td>\n",
       "      <td>1=yes (&gt;0 days)</td>\n",
       "      <td>1=low (0)</td>\n",
       "      <td>1=Low (0-12)</td>\n",
       "      <td>1=low (0-12)</td>\n",
       "      <td>1=low (0-12)</td>\n",
       "      <td>1=Yes</td>\n",
       "      <td>1=Yes</td>\n",
       "      <td>11=Cook County – Chicago</td>\n",
       "      <td>1=yes (1+)</td>\n",
       "      <td>1=any MOUD treatment (EU15=1+)</td>\n",
       "      <td>1=Male</td>\n",
       "      <td>0=low(0)</td>\n",
       "      <td>1=yes (18-49)</td>\n",
       "    </tr>\n",
       "    <tr>\n",
       "      <th>1</th>\n",
       "      <td>2=Other</td>\n",
       "      <td>2=other</td>\n",
       "      <td>2=Moderate (1-2)</td>\n",
       "      <td>2=Moderate (13-90)</td>\n",
       "      <td>2=moderate(13-44)</td>\n",
       "      <td>2=moderate(13-44)</td>\n",
       "      <td>2=Other</td>\n",
       "      <td>2=Other</td>\n",
       "      <td>30=Dupage County</td>\n",
       "      <td>2=No (0)</td>\n",
       "      <td>2= any other SUD treatment [EU10&gt;0]</td>\n",
       "      <td>2=Other</td>\n",
       "      <td>2= moderate (1-2)</td>\n",
       "      <td>2=Other (50 or older)</td>\n",
       "    </tr>\n",
       "    <tr>\n",
       "      <th>2</th>\n",
       "      <td></td>\n",
       "      <td></td>\n",
       "      <td>3=High (3+)</td>\n",
       "      <td>3=High (91+)</td>\n",
       "      <td>3=high (45 or more)</td>\n",
       "      <td>3=high (45 or more)</td>\n",
       "      <td></td>\n",
       "      <td></td>\n",
       "      <td>40=Grundy County</td>\n",
       "      <td></td>\n",
       "      <td>3=none</td>\n",
       "      <td></td>\n",
       "      <td>3= high (3-5)</td>\n",
       "      <td></td>\n",
       "    </tr>\n",
       "    <tr>\n",
       "      <th>3</th>\n",
       "      <td></td>\n",
       "      <td></td>\n",
       "      <td></td>\n",
       "      <td></td>\n",
       "      <td></td>\n",
       "      <td></td>\n",
       "      <td></td>\n",
       "      <td></td>\n",
       "      <td>50=Mclean County</td>\n",
       "      <td></td>\n",
       "      <td></td>\n",
       "      <td></td>\n",
       "      <td></td>\n",
       "      <td></td>\n",
       "    </tr>\n",
       "    <tr>\n",
       "      <th>4</th>\n",
       "      <td></td>\n",
       "      <td></td>\n",
       "      <td></td>\n",
       "      <td></td>\n",
       "      <td></td>\n",
       "      <td></td>\n",
       "      <td></td>\n",
       "      <td></td>\n",
       "      <td>60=Tazewell County</td>\n",
       "      <td></td>\n",
       "      <td></td>\n",
       "      <td></td>\n",
       "      <td></td>\n",
       "      <td></td>\n",
       "    </tr>\n",
       "    <tr>\n",
       "      <th>5</th>\n",
       "      <td></td>\n",
       "      <td></td>\n",
       "      <td></td>\n",
       "      <td></td>\n",
       "      <td></td>\n",
       "      <td></td>\n",
       "      <td></td>\n",
       "      <td></td>\n",
       "      <td>70=Will County</td>\n",
       "      <td></td>\n",
       "      <td></td>\n",
       "      <td></td>\n",
       "      <td></td>\n",
       "      <td></td>\n",
       "    </tr>\n",
       "  </tbody>\n",
       "</table>\n",
       "</div>"
      ],
      "text/plain": [
       "                african_am  com_supervision    crime_violence  \\\n",
       "0  1=Yes (including mixed)  1=yes (>0 days)         1=low (0)   \n",
       "1                  2=Other          2=other  2=Moderate (1-2)   \n",
       "2                                                 3=High (3+)   \n",
       "3                                                               \n",
       "4                                                               \n",
       "5                                                               \n",
       "\n",
       "         days_in_jail              days_ou             days_stu  \\\n",
       "0        1=Low (0-12)         1=low (0-12)         1=low (0-12)   \n",
       "1  2=Moderate (13-90)    2=moderate(13-44)    2=moderate(13-44)   \n",
       "2        3=High (91+)  3=high (45 or more)  3=high (45 or more)   \n",
       "3                                                                 \n",
       "4                                                                 \n",
       "5                                                                 \n",
       "\n",
       "  electronic_monitoring hispanic                local_site overdose_hist  \\\n",
       "0                 1=Yes    1=Yes  11=Cook County – Chicago    1=yes (1+)   \n",
       "1               2=Other  2=Other          30=Dupage County      2=No (0)   \n",
       "2                                         40=Grundy County                 \n",
       "3                                         50=Mclean County                 \n",
       "4                                       60=Tazewell County                 \n",
       "5                                           70=Will County                 \n",
       "\n",
       "                            prior_sutx      sex                sud  \\\n",
       "0       1=any MOUD treatment (EU15=1+)   1=Male           0=low(0)   \n",
       "1  2= any other SUD treatment [EU10>0]  2=Other  2= moderate (1-2)   \n",
       "2                               3=none               3= high (3-5)   \n",
       "3                                                                    \n",
       "4                                                                    \n",
       "5                                                                    \n",
       "\n",
       "                under_50  \n",
       "0          1=yes (18-49)  \n",
       "1  2=Other (50 or older)  \n",
       "2                         \n",
       "3                         \n",
       "4                         \n",
       "5                         "
      ]
     },
     "execution_count": 14,
     "metadata": {},
     "output_type": "execute_result"
    }
   ],
   "source": [
    "pd.DataFrame(dict([ (k,pd.Series(v)) for k,v in response.json()['results']['factors'].items() ])).fillna(\"\")"
   ]
  },
  {
   "cell_type": "markdown",
   "metadata": {},
   "source": [
    "## Randomize a participant\n",
    "This will use `/study_participants` endpoint. This endpoint requires the following parameters:\n",
    "* api_key - your API key\n",
    "* study - study name\n",
    "* id - participant ID\n",
    "\n",
    "This also expects all factors and their levels to be passed in the request. The allowed levels are as in the Factors dataframe displayed above\n",
    "\n",
    "Here is an example API call"
   ]
  },
  {
   "cell_type": "code",
   "execution_count": 15,
   "metadata": {},
   "outputs": [],
   "source": [
    "dct_response_factors = response.json()"
   ]
  },
  {
   "cell_type": "code",
   "execution_count": 16,
   "metadata": {},
   "outputs": [],
   "source": [
    "dct_param = {'api_key': API_KEY,\n",
    "             'study': 'CHS JCOIN HUB', \n",
    "             'id': 'api-test-5162790'}\n",
    "\n",
    "dct_param.update(dict([(factor, dct_response_factors['results']['factors'][factor][1]) for factor in dct_response_factors['results']['factors'].keys()]))\n",
    "api_url = 'http://localhost:5000/study_participants'\n",
    "response = requests.post(api_url, params=dct_param)"
   ]
  },
  {
   "cell_type": "markdown",
   "metadata": {},
   "source": [
    "Parameters sent in this request are: "
   ]
  },
  {
   "cell_type": "code",
   "execution_count": 17,
   "metadata": {},
   "outputs": [
    {
     "data": {
      "text/plain": [
       "{'api_key': '358e2479a67cd66f989e1f138c1276f86d133acffc7d0feb25e886ecd4fe94f1',\n",
       " 'study': 'CHS JCOIN HUB',\n",
       " 'id': 'api-test-5162790',\n",
       " 'african_am': '2=Other',\n",
       " 'com_supervision': '2=other',\n",
       " 'crime_violence': '2=Moderate (1-2)',\n",
       " 'days_in_jail': '2=Moderate (13-90)',\n",
       " 'days_ou': '2=moderate(13-44)',\n",
       " 'days_stu': '2=moderate(13-44)',\n",
       " 'electronic_monitoring': '2=Other',\n",
       " 'hispanic': '2=Other',\n",
       " 'local_site': '30=Dupage County',\n",
       " 'overdose_hist': '2=No (0)',\n",
       " 'prior_sutx': '2= any other SUD treatment [EU10>0]',\n",
       " 'sex': '2=Other',\n",
       " 'sud': '2= moderate (1-2)',\n",
       " 'under_50': '2=Other (50 or older)'}"
      ]
     },
     "execution_count": 17,
     "metadata": {},
     "output_type": "execute_result"
    }
   ],
   "source": [
    "dct_param"
   ]
  },
  {
   "cell_type": "markdown",
   "metadata": {},
   "source": [
    "Request URL for this request will be"
   ]
  },
  {
   "cell_type": "code",
   "execution_count": 18,
   "metadata": {},
   "outputs": [
    {
     "data": {
      "text/plain": [
       "'http://localhost:5000/study_participants?api_key=358e2479a67cd66f989e1f138c1276f86d133acffc7d0feb25e886ecd4fe94f1&study=CHS+JCOIN+HUB&id=api-test-5162790&african_am=2%3DOther&com_supervision=2%3Dother&crime_violence=2%3DModerate+%281-2%29&days_in_jail=2%3DModerate+%2813-90%29&days_ou=2%3Dmoderate%2813-44%29&days_stu=2%3Dmoderate%2813-44%29&electronic_monitoring=2%3DOther&hispanic=2%3DOther&local_site=30%3DDupage+County&overdose_hist=2%3DNo+%280%29&prior_sutx=2%3D+any+other+SUD+treatment+%5BEU10%3E0%5D&sex=2%3DOther&sud=2%3D+moderate+%281-2%29&under_50=2%3DOther+%2850+or+older%29'"
      ]
     },
     "execution_count": 18,
     "metadata": {},
     "output_type": "execute_result"
    }
   ],
   "source": [
    "response.url"
   ]
  },
  {
   "cell_type": "markdown",
   "metadata": {},
   "source": [
    "`results` field in response will contain info for the randomized participant along with the assigned treatment. "
   ]
  },
  {
   "cell_type": "code",
   "execution_count": 19,
   "metadata": {},
   "outputs": [
    {
     "name": "stdout",
     "output_type": "stream",
     "text": [
      "{\n",
      "  \"message\": \"Success\",\n",
      "  \"results\": [\n",
      "    {\n",
      "      \"bg_state\": {\n",
      "        \"bit_generator\": \"PCG64\",\n",
      "        \"has_uint32\": 1,\n",
      "        \"state\": {\n",
      "          \"inc\": 30008503642980956324491363429807189605,\n",
      "          \"state\": 338609082708719756230782461605014391162\n",
      "        },\n",
      "        \"uinteger\": 4105895174\n",
      "      },\n",
      "      \"datetime\": \"Sat, 02 Apr 2022 02:57:42 GMT\",\n",
      "      \"f_african_am\": \"2=Other\",\n",
      "      \"f_com_supervision\": \"2=other\",\n",
      "      \"f_crime_violence\": \"2=Moderate (1-2)\",\n",
      "      \"f_days_in_jail\": \"2=Moderate (13-90)\",\n",
      "      \"f_days_ou\": \"2=moderate(13-44)\",\n",
      "      \"f_days_stu\": \"2=moderate(13-44)\",\n",
      "      \"f_electronic_monitoring\": \"2=Other\",\n",
      "      \"f_hispanic\": \"2=Other\",\n",
      "      \"f_local_site\": \"30=Dupage County\",\n",
      "      \"f_overdose_hist\": \"2=No (0)\",\n",
      "      \"f_prior_sutx\": \"2= any other SUD treatment [EU10>0]\",\n",
      "      \"f_sex\": \"2=Other\",\n",
      "      \"f_sud\": \"2= moderate (1-2)\",\n",
      "      \"f_under_50\": \"2=Other (50 or older)\",\n",
      "      \"id\": \"api-test-5162790\",\n",
      "      \"trt\": \"RMC-Q\",\n",
      "      \"user\": \"manu\"\n",
      "    }\n",
      "  ],\n",
      "  \"status\": 200\n",
      "}\n"
     ]
    }
   ],
   "source": [
    "print(json.dumps(response.json(), indent=2))"
   ]
  },
  {
   "cell_type": "code",
   "execution_count": null,
   "metadata": {},
   "outputs": [],
   "source": []
  },
  {
   "cell_type": "code",
   "execution_count": null,
   "metadata": {},
   "outputs": [],
   "source": []
  }
 ],
 "metadata": {
  "kernelspec": {
   "display_name": "Python [conda env:urntest] *",
   "language": "python",
   "name": "conda-env-urntest-py"
  },
  "language_info": {
   "codemirror_mode": {
    "name": "ipython",
    "version": 3
   },
   "file_extension": ".py",
   "mimetype": "text/x-python",
   "name": "python",
   "nbconvert_exporter": "python",
   "pygments_lexer": "ipython3",
   "version": "3.9.11"
  }
 },
 "nbformat": 4,
 "nbformat_minor": 4
}
