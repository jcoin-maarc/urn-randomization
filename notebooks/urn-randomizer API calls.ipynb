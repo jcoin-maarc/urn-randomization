{
 "cells": [
  {
   "cell_type": "code",
   "execution_count": 6,
   "metadata": {},
   "outputs": [],
   "source": [
    "import requests\n",
    "import pandas as pd\n",
    "import os\n",
    "from dotenv import load_dotenv, find_dotenv"
   ]
  },
  {
   "cell_type": "code",
   "execution_count": 7,
   "metadata": {},
   "outputs": [],
   "source": [
    "## Fetch API key"
   ]
  },
  {
   "cell_type": "code",
   "execution_count": 8,
   "metadata": {},
   "outputs": [],
   "source": [
    "load_dotenv(find_dotenv())\n",
    "API_KEY = os.environ.get(\"URN_API_KEY\")"
   ]
  },
  {
   "cell_type": "markdown",
   "metadata": {},
   "source": [
    "## Export treatment assignments for all participants\n",
    "\n",
    "This will use `/api/participants` endpoint. This endpoint requires the following parameters:\n",
    "* api_key - your API key\n",
    "* study - study name\n",
    "\n",
    "Here is an example API call"
   ]
  },
  {
   "cell_type": "code",
   "execution_count": 13,
   "metadata": {},
   "outputs": [],
   "source": [
    "dct_param = {'api_key': API_KEY,\n",
    "             'study': 'CHS JCOIN'}\n",
    "api_url = 'http://localhost:5000/api/participants'\n",
    "response = requests.get(api_url, params=dct_param)"
   ]
  },
  {
   "cell_type": "markdown",
   "metadata": {},
   "source": [
    "The URL for this request will be:"
   ]
  },
  {
   "cell_type": "code",
   "execution_count": 14,
   "metadata": {},
   "outputs": [
    {
     "data": {
      "text/plain": [
       "'http://localhost:5000/api/participants?api_key=12345782&study=CHS+JCOIN'"
      ]
     },
     "execution_count": 14,
     "metadata": {},
     "output_type": "execute_result"
    }
   ],
   "source": [
    "response.url"
   ]
  },
  {
   "cell_type": "code",
   "execution_count": 16,
   "metadata": {},
   "outputs": [
    {
     "data": {
      "text/plain": [
       "dict_keys(['results', 'status'])"
      ]
     },
     "execution_count": 16,
     "metadata": {},
     "output_type": "execute_result"
    }
   ],
   "source": [
    "response.json().keys()"
   ]
  },
  {
   "cell_type": "code",
   "execution_count": 18,
   "metadata": {},
   "outputs": [
    {
     "data": {
      "text/html": [
       "<div>\n",
       "<style scoped>\n",
       "    .dataframe tbody tr th:only-of-type {\n",
       "        vertical-align: middle;\n",
       "    }\n",
       "\n",
       "    .dataframe tbody tr th {\n",
       "        vertical-align: top;\n",
       "    }\n",
       "\n",
       "    .dataframe thead th {\n",
       "        text-align: right;\n",
       "    }\n",
       "</style>\n",
       "<table border=\"1\" class=\"dataframe\">\n",
       "  <thead>\n",
       "    <tr style=\"text-align: right;\">\n",
       "      <th></th>\n",
       "      <th>bg_state</th>\n",
       "      <th>datetime</th>\n",
       "      <th>f_african_american</th>\n",
       "      <th>f_crime_violence_screener_count</th>\n",
       "      <th>f_electronic_monitoring</th>\n",
       "      <th>f_hispanic_descent</th>\n",
       "      <th>f_incarceration_days</th>\n",
       "      <th>f_local_site</th>\n",
       "      <th>f_prior_opioid_overdose</th>\n",
       "      <th>f_prior_substance_use_treatment</th>\n",
       "      <th>f_probation_parole_community_supervision</th>\n",
       "      <th>f_sex</th>\n",
       "      <th>f_substance_screener_symptoms</th>\n",
       "      <th>f_substance_use_days</th>\n",
       "      <th>f_young_adult</th>\n",
       "      <th>id</th>\n",
       "      <th>trt</th>\n",
       "      <th>user</th>\n",
       "    </tr>\n",
       "  </thead>\n",
       "  <tbody>\n",
       "    <tr>\n",
       "      <th>0</th>\n",
       "      <td>{'bit_generator': 'PCG64', 'has_uint32': 1, 's...</td>\n",
       "      <td>Wed, 10 Feb 2021 00:01:08 GMT</td>\n",
       "      <td>Yes (including mixed)</td>\n",
       "      <td>Low</td>\n",
       "      <td>Yes</td>\n",
       "      <td>Other</td>\n",
       "      <td>Moderate (13-90)</td>\n",
       "      <td>40-Grundy County</td>\n",
       "      <td>Yes</td>\n",
       "      <td>Any other SUD treatment</td>\n",
       "      <td>Other</td>\n",
       "      <td>Male</td>\n",
       "      <td>High (3-5)</td>\n",
       "      <td>High</td>\n",
       "      <td>Other (26 or older)</td>\n",
       "      <td>0</td>\n",
       "      <td>RMC-Q</td>\n",
       "      <td>dummy</td>\n",
       "    </tr>\n",
       "    <tr>\n",
       "      <th>1</th>\n",
       "      <td>{'bit_generator': 'PCG64', 'has_uint32': 0, 's...</td>\n",
       "      <td>Wed, 10 Feb 2021 00:01:08 GMT</td>\n",
       "      <td>No</td>\n",
       "      <td>Moderate (1-2)</td>\n",
       "      <td>Yes</td>\n",
       "      <td>Yes</td>\n",
       "      <td>Low (0-12)</td>\n",
       "      <td>70-Will County</td>\n",
       "      <td>Yes</td>\n",
       "      <td>Any other SUD treatment</td>\n",
       "      <td>Other</td>\n",
       "      <td>Male</td>\n",
       "      <td>Moderate (1-2)</td>\n",
       "      <td>Moderate (13-44)</td>\n",
       "      <td>Yes (18-25)</td>\n",
       "      <td>1</td>\n",
       "      <td>MART</td>\n",
       "      <td>dummy</td>\n",
       "    </tr>\n",
       "    <tr>\n",
       "      <th>2</th>\n",
       "      <td>{'bit_generator': 'PCG64', 'has_uint32': 1, 's...</td>\n",
       "      <td>Wed, 10 Feb 2021 00:01:08 GMT</td>\n",
       "      <td>Yes (including mixed)</td>\n",
       "      <td>Moderate (1-2)</td>\n",
       "      <td>Yes</td>\n",
       "      <td>Yes</td>\n",
       "      <td>Low (0-12)</td>\n",
       "      <td>60-Tazewell County</td>\n",
       "      <td>No</td>\n",
       "      <td>Any other SUD treatment</td>\n",
       "      <td>Other</td>\n",
       "      <td>Male</td>\n",
       "      <td>Moderate (1-2)</td>\n",
       "      <td>High</td>\n",
       "      <td>Yes (18-25)</td>\n",
       "      <td>2</td>\n",
       "      <td>RMC-A</td>\n",
       "      <td>dummy</td>\n",
       "    </tr>\n",
       "    <tr>\n",
       "      <th>3</th>\n",
       "      <td>{'bit_generator': 'PCG64', 'has_uint32': 0, 's...</td>\n",
       "      <td>Wed, 10 Feb 2021 00:01:08 GMT</td>\n",
       "      <td>No</td>\n",
       "      <td>Moderate (1-2)</td>\n",
       "      <td>Yes</td>\n",
       "      <td>Other</td>\n",
       "      <td>Low (0-12)</td>\n",
       "      <td>11-Cook County – Chicago</td>\n",
       "      <td>No</td>\n",
       "      <td>Other</td>\n",
       "      <td>Other</td>\n",
       "      <td>Male</td>\n",
       "      <td>High (3-5)</td>\n",
       "      <td>High</td>\n",
       "      <td>Yes (18-25)</td>\n",
       "      <td>3</td>\n",
       "      <td>RMC-Q</td>\n",
       "      <td>dummy</td>\n",
       "    </tr>\n",
       "    <tr>\n",
       "      <th>4</th>\n",
       "      <td>{'bit_generator': 'PCG64', 'has_uint32': 0, 's...</td>\n",
       "      <td>Wed, 10 Feb 2021 00:01:08 GMT</td>\n",
       "      <td>Yes (including mixed)</td>\n",
       "      <td>High (3-5)</td>\n",
       "      <td>Yes</td>\n",
       "      <td>Other</td>\n",
       "      <td>Low (0-12)</td>\n",
       "      <td>60-Tazewell County</td>\n",
       "      <td>No</td>\n",
       "      <td>Any other SUD treatment</td>\n",
       "      <td>Yes (1+ days)</td>\n",
       "      <td>Male</td>\n",
       "      <td>Moderate (1-2)</td>\n",
       "      <td>Moderate (13-44)</td>\n",
       "      <td>Other (26 or older)</td>\n",
       "      <td>4</td>\n",
       "      <td>RMC-A</td>\n",
       "      <td>dummy</td>\n",
       "    </tr>\n",
       "  </tbody>\n",
       "</table>\n",
       "</div>"
      ],
      "text/plain": [
       "                                            bg_state  \\\n",
       "0  {'bit_generator': 'PCG64', 'has_uint32': 1, 's...   \n",
       "1  {'bit_generator': 'PCG64', 'has_uint32': 0, 's...   \n",
       "2  {'bit_generator': 'PCG64', 'has_uint32': 1, 's...   \n",
       "3  {'bit_generator': 'PCG64', 'has_uint32': 0, 's...   \n",
       "4  {'bit_generator': 'PCG64', 'has_uint32': 0, 's...   \n",
       "\n",
       "                        datetime     f_african_american  \\\n",
       "0  Wed, 10 Feb 2021 00:01:08 GMT  Yes (including mixed)   \n",
       "1  Wed, 10 Feb 2021 00:01:08 GMT                     No   \n",
       "2  Wed, 10 Feb 2021 00:01:08 GMT  Yes (including mixed)   \n",
       "3  Wed, 10 Feb 2021 00:01:08 GMT                     No   \n",
       "4  Wed, 10 Feb 2021 00:01:08 GMT  Yes (including mixed)   \n",
       "\n",
       "  f_crime_violence_screener_count f_electronic_monitoring f_hispanic_descent  \\\n",
       "0                             Low                     Yes              Other   \n",
       "1                  Moderate (1-2)                     Yes                Yes   \n",
       "2                  Moderate (1-2)                     Yes                Yes   \n",
       "3                  Moderate (1-2)                     Yes              Other   \n",
       "4                      High (3-5)                     Yes              Other   \n",
       "\n",
       "  f_incarceration_days              f_local_site f_prior_opioid_overdose  \\\n",
       "0     Moderate (13-90)          40-Grundy County                     Yes   \n",
       "1           Low (0-12)            70-Will County                     Yes   \n",
       "2           Low (0-12)        60-Tazewell County                      No   \n",
       "3           Low (0-12)  11-Cook County – Chicago                      No   \n",
       "4           Low (0-12)        60-Tazewell County                      No   \n",
       "\n",
       "  f_prior_substance_use_treatment f_probation_parole_community_supervision  \\\n",
       "0         Any other SUD treatment                                    Other   \n",
       "1         Any other SUD treatment                                    Other   \n",
       "2         Any other SUD treatment                                    Other   \n",
       "3                           Other                                    Other   \n",
       "4         Any other SUD treatment                            Yes (1+ days)   \n",
       "\n",
       "  f_sex f_substance_screener_symptoms f_substance_use_days  \\\n",
       "0  Male                    High (3-5)                 High   \n",
       "1  Male                Moderate (1-2)     Moderate (13-44)   \n",
       "2  Male                Moderate (1-2)                 High   \n",
       "3  Male                    High (3-5)                 High   \n",
       "4  Male                Moderate (1-2)     Moderate (13-44)   \n",
       "\n",
       "         f_young_adult id    trt   user  \n",
       "0  Other (26 or older)  0  RMC-Q  dummy  \n",
       "1          Yes (18-25)  1   MART  dummy  \n",
       "2          Yes (18-25)  2  RMC-A  dummy  \n",
       "3          Yes (18-25)  3  RMC-Q  dummy  \n",
       "4  Other (26 or older)  4  RMC-A  dummy  "
      ]
     },
     "execution_count": 18,
     "metadata": {},
     "output_type": "execute_result"
    }
   ],
   "source": [
    "pd.DataFrame(response.json()['results']).head()"
   ]
  },
  {
   "cell_type": "markdown",
   "metadata": {},
   "source": [
    "## Export study config\n",
    "This will use `/api/config` endpoint. This endpoint requires the following parameters:\n",
    "* api_key - your API key\n",
    "* study - study name\n",
    "\n",
    "Here is an example API call"
   ]
  },
  {
   "cell_type": "code",
   "execution_count": 38,
   "metadata": {},
   "outputs": [],
   "source": [
    "dct_param = {'api_key': API_KEY,\n",
    "             'study': 'CHS JCOIN'}\n",
    "api_url = 'http://localhost:5000/api/config'\n",
    "response = requests.get(api_url, params=dct_param)"
   ]
  },
  {
   "cell_type": "markdown",
   "metadata": {},
   "source": [
    "The URL for this request will be:"
   ]
  },
  {
   "cell_type": "code",
   "execution_count": 39,
   "metadata": {},
   "outputs": [
    {
     "data": {
      "text/plain": [
       "'http://localhost:5000/api/config?api_key=12345782&study=CHS+JCOIN'"
      ]
     },
     "execution_count": 39,
     "metadata": {},
     "output_type": "execute_result"
    }
   ],
   "source": [
    "response.url"
   ]
  },
  {
   "cell_type": "code",
   "execution_count": 40,
   "metadata": {},
   "outputs": [
    {
     "data": {
      "text/plain": [
       "dict_keys(['results', 'status'])"
      ]
     },
     "execution_count": 40,
     "metadata": {},
     "output_type": "execute_result"
    }
   ],
   "source": [
    "response.json().keys()"
   ]
  },
  {
   "cell_type": "code",
   "execution_count": 41,
   "metadata": {},
   "outputs": [
    {
     "data": {
      "text/plain": [
       "{'D': 'range',\n",
       " 'alpha': 0,\n",
       " 'beta': 1,\n",
       " 'factors': {'african_american': ['Yes (including mixed)', 'No'],\n",
       "  'crime_violence_screener_count': ['Low', 'Moderate (1-2)', 'High (3-5)'],\n",
       "  'electronic_monitoring': ['Yes', 'Other'],\n",
       "  'hispanic_descent': ['Yes', 'Other'],\n",
       "  'incarceration_days': ['Low (0-12)', 'Moderate (13-90)', 'High (91+)'],\n",
       "  'local_site': ['11-Cook County – Chicago',\n",
       "   '30-Dupage County',\n",
       "   '40-Grundy County',\n",
       "   '50-Mclean County',\n",
       "   '60-Tazewell County',\n",
       "   '70-Will County'],\n",
       "  'prior_opioid_overdose': ['Yes', 'No'],\n",
       "  'prior_substance_use_treatment': ['Any MOUD treatment',\n",
       "   'Any other SUD treatment',\n",
       "   'Other'],\n",
       "  'probation_parole_community_supervision': ['Yes (1+ days)', 'Other'],\n",
       "  'sex': ['Male', 'Female'],\n",
       "  'substance_screener_symptoms': ['Low', 'Moderate (1-2)', 'High (3-5)'],\n",
       "  'substance_use_days': ['Low (0-12)', 'Moderate (13-44)', 'High'],\n",
       "  'young_adult': ['Yes (18-25)', 'Other (26 or older)']},\n",
       " 'starting_seed': 100,\n",
       " 'treatments': ['MART', 'RMC-Q', 'RMC-A'],\n",
       " 'urn_selection': 'method1',\n",
       " 'w': 1}"
      ]
     },
     "execution_count": 41,
     "metadata": {},
     "output_type": "execute_result"
    }
   ],
   "source": [
    "response.json()['results']"
   ]
  },
  {
   "cell_type": "markdown",
   "metadata": {},
   "source": [
    "Factors and their levels for this study are"
   ]
  },
  {
   "cell_type": "code",
   "execution_count": 42,
   "metadata": {},
   "outputs": [
    {
     "data": {
      "text/html": [
       "<div>\n",
       "<style scoped>\n",
       "    .dataframe tbody tr th:only-of-type {\n",
       "        vertical-align: middle;\n",
       "    }\n",
       "\n",
       "    .dataframe tbody tr th {\n",
       "        vertical-align: top;\n",
       "    }\n",
       "\n",
       "    .dataframe thead th {\n",
       "        text-align: right;\n",
       "    }\n",
       "</style>\n",
       "<table border=\"1\" class=\"dataframe\">\n",
       "  <thead>\n",
       "    <tr style=\"text-align: right;\">\n",
       "      <th></th>\n",
       "      <th>african_american</th>\n",
       "      <th>crime_violence_screener_count</th>\n",
       "      <th>electronic_monitoring</th>\n",
       "      <th>hispanic_descent</th>\n",
       "      <th>incarceration_days</th>\n",
       "      <th>local_site</th>\n",
       "      <th>prior_opioid_overdose</th>\n",
       "      <th>prior_substance_use_treatment</th>\n",
       "      <th>probation_parole_community_supervision</th>\n",
       "      <th>sex</th>\n",
       "      <th>substance_screener_symptoms</th>\n",
       "      <th>substance_use_days</th>\n",
       "      <th>young_adult</th>\n",
       "    </tr>\n",
       "  </thead>\n",
       "  <tbody>\n",
       "    <tr>\n",
       "      <th>0</th>\n",
       "      <td>Yes (including mixed)</td>\n",
       "      <td>Low</td>\n",
       "      <td>Yes</td>\n",
       "      <td>Yes</td>\n",
       "      <td>Low (0-12)</td>\n",
       "      <td>11-Cook County – Chicago</td>\n",
       "      <td>Yes</td>\n",
       "      <td>Any MOUD treatment</td>\n",
       "      <td>Yes (1+ days)</td>\n",
       "      <td>Male</td>\n",
       "      <td>Low</td>\n",
       "      <td>Low (0-12)</td>\n",
       "      <td>Yes (18-25)</td>\n",
       "    </tr>\n",
       "    <tr>\n",
       "      <th>1</th>\n",
       "      <td>No</td>\n",
       "      <td>Moderate (1-2)</td>\n",
       "      <td>Other</td>\n",
       "      <td>Other</td>\n",
       "      <td>Moderate (13-90)</td>\n",
       "      <td>30-Dupage County</td>\n",
       "      <td>No</td>\n",
       "      <td>Any other SUD treatment</td>\n",
       "      <td>Other</td>\n",
       "      <td>Female</td>\n",
       "      <td>Moderate (1-2)</td>\n",
       "      <td>Moderate (13-44)</td>\n",
       "      <td>Other (26 or older)</td>\n",
       "    </tr>\n",
       "    <tr>\n",
       "      <th>2</th>\n",
       "      <td></td>\n",
       "      <td>High (3-5)</td>\n",
       "      <td></td>\n",
       "      <td></td>\n",
       "      <td>High (91+)</td>\n",
       "      <td>40-Grundy County</td>\n",
       "      <td></td>\n",
       "      <td>Other</td>\n",
       "      <td></td>\n",
       "      <td></td>\n",
       "      <td>High (3-5)</td>\n",
       "      <td>High</td>\n",
       "      <td></td>\n",
       "    </tr>\n",
       "    <tr>\n",
       "      <th>3</th>\n",
       "      <td></td>\n",
       "      <td></td>\n",
       "      <td></td>\n",
       "      <td></td>\n",
       "      <td></td>\n",
       "      <td>50-Mclean County</td>\n",
       "      <td></td>\n",
       "      <td></td>\n",
       "      <td></td>\n",
       "      <td></td>\n",
       "      <td></td>\n",
       "      <td></td>\n",
       "      <td></td>\n",
       "    </tr>\n",
       "    <tr>\n",
       "      <th>4</th>\n",
       "      <td></td>\n",
       "      <td></td>\n",
       "      <td></td>\n",
       "      <td></td>\n",
       "      <td></td>\n",
       "      <td>60-Tazewell County</td>\n",
       "      <td></td>\n",
       "      <td></td>\n",
       "      <td></td>\n",
       "      <td></td>\n",
       "      <td></td>\n",
       "      <td></td>\n",
       "      <td></td>\n",
       "    </tr>\n",
       "    <tr>\n",
       "      <th>5</th>\n",
       "      <td></td>\n",
       "      <td></td>\n",
       "      <td></td>\n",
       "      <td></td>\n",
       "      <td></td>\n",
       "      <td>70-Will County</td>\n",
       "      <td></td>\n",
       "      <td></td>\n",
       "      <td></td>\n",
       "      <td></td>\n",
       "      <td></td>\n",
       "      <td></td>\n",
       "      <td></td>\n",
       "    </tr>\n",
       "  </tbody>\n",
       "</table>\n",
       "</div>"
      ],
      "text/plain": [
       "        african_american crime_violence_screener_count electronic_monitoring  \\\n",
       "0  Yes (including mixed)                           Low                   Yes   \n",
       "1                     No                Moderate (1-2)                 Other   \n",
       "2                                           High (3-5)                         \n",
       "3                                                                              \n",
       "4                                                                              \n",
       "5                                                                              \n",
       "\n",
       "  hispanic_descent incarceration_days                local_site  \\\n",
       "0              Yes         Low (0-12)  11-Cook County – Chicago   \n",
       "1            Other   Moderate (13-90)          30-Dupage County   \n",
       "2                          High (91+)          40-Grundy County   \n",
       "3                                              50-Mclean County   \n",
       "4                                            60-Tazewell County   \n",
       "5                                                70-Will County   \n",
       "\n",
       "  prior_opioid_overdose prior_substance_use_treatment  \\\n",
       "0                   Yes            Any MOUD treatment   \n",
       "1                    No       Any other SUD treatment   \n",
       "2                                               Other   \n",
       "3                                                       \n",
       "4                                                       \n",
       "5                                                       \n",
       "\n",
       "  probation_parole_community_supervision     sex substance_screener_symptoms  \\\n",
       "0                          Yes (1+ days)    Male                         Low   \n",
       "1                                  Other  Female              Moderate (1-2)   \n",
       "2                                                                 High (3-5)   \n",
       "3                                                                              \n",
       "4                                                                              \n",
       "5                                                                              \n",
       "\n",
       "  substance_use_days          young_adult  \n",
       "0         Low (0-12)          Yes (18-25)  \n",
       "1   Moderate (13-44)  Other (26 or older)  \n",
       "2               High                       \n",
       "3                                          \n",
       "4                                          \n",
       "5                                          "
      ]
     },
     "execution_count": 42,
     "metadata": {},
     "output_type": "execute_result"
    }
   ],
   "source": [
    "pd.DataFrame(dict([ (k,pd.Series(v)) for k,v in response.json()['results']['factors'].items() ])).fillna(\"\")"
   ]
  },
  {
   "cell_type": "markdown",
   "metadata": {},
   "source": [
    "## Randomize a participant\n",
    "This will use `/api/config` endpoint. This endpoint requires the following parameters:\n",
    "* api_key - your API key\n",
    "* study - study name\n",
    "* id - participant ID\n",
    "\n",
    "This also expects the following factors to be passed in the request. The allowed levels are as in the Factors dataframe displayed above\n",
    "\n",
    "Here is an example API call"
   ]
  },
  {
   "cell_type": "code",
   "execution_count": 43,
   "metadata": {},
   "outputs": [],
   "source": [
    "dct_param = {'api_key': API_KEY,\n",
    "             'study': 'CHS JCOIN', \n",
    "             'id': 12343423}\n",
    "\n",
    "dct_param.update(dict([(factor, response.json()['results']['factors'][factor][0]) for factor in response.json()['results']['factors'].keys()]))\n",
    "api_url = 'http://localhost:5000/api/randomize'\n",
    "response = requests.get(api_url, params=dct_param)"
   ]
  },
  {
   "cell_type": "markdown",
   "metadata": {},
   "source": [
    "Parameters sent in this request are: "
   ]
  },
  {
   "cell_type": "code",
   "execution_count": 44,
   "metadata": {},
   "outputs": [
    {
     "data": {
      "text/plain": [
       "{'api_key': '12345782',\n",
       " 'study': 'CHS JCOIN',\n",
       " 'id': 12343423,\n",
       " 'african_american': 'Yes (including mixed)',\n",
       " 'crime_violence_screener_count': 'Low',\n",
       " 'electronic_monitoring': 'Yes',\n",
       " 'hispanic_descent': 'Yes',\n",
       " 'incarceration_days': 'Low (0-12)',\n",
       " 'local_site': '11-Cook County – Chicago',\n",
       " 'prior_opioid_overdose': 'Yes',\n",
       " 'prior_substance_use_treatment': 'Any MOUD treatment',\n",
       " 'probation_parole_community_supervision': 'Yes (1+ days)',\n",
       " 'sex': 'Male',\n",
       " 'substance_screener_symptoms': 'Low',\n",
       " 'substance_use_days': 'Low (0-12)',\n",
       " 'young_adult': 'Yes (18-25)'}"
      ]
     },
     "execution_count": 44,
     "metadata": {},
     "output_type": "execute_result"
    }
   ],
   "source": [
    "dct_param"
   ]
  },
  {
   "cell_type": "markdown",
   "metadata": {},
   "source": [
    "Request URL for this request will be"
   ]
  },
  {
   "cell_type": "code",
   "execution_count": 45,
   "metadata": {},
   "outputs": [
    {
     "data": {
      "text/plain": [
       "'http://localhost:5000/api/randomize?api_key=12345782&study=CHS+JCOIN&id=12343423&african_american=Yes+%28including+mixed%29&crime_violence_screener_count=Low&electronic_monitoring=Yes&hispanic_descent=Yes&incarceration_days=Low+%280-12%29&local_site=11-Cook+County+%E2%80%93+Chicago&prior_opioid_overdose=Yes&prior_substance_use_treatment=Any+MOUD+treatment&probation_parole_community_supervision=Yes+%281%2B+days%29&sex=Male&substance_screener_symptoms=Low&substance_use_days=Low+%280-12%29&young_adult=Yes+%2818-25%29'"
      ]
     },
     "execution_count": 45,
     "metadata": {},
     "output_type": "execute_result"
    }
   ],
   "source": [
    "response.url"
   ]
  },
  {
   "cell_type": "markdown",
   "metadata": {},
   "source": [
    "`results` field in response will contain info for the randomized participant along with the assigned treatment. "
   ]
  },
  {
   "cell_type": "code",
   "execution_count": 47,
   "metadata": {},
   "outputs": [
    {
     "data": {
      "text/plain": [
       "{'results': [{'bg_state': {'bit_generator': 'PCG64',\n",
       "    'has_uint32': 1,\n",
       "    'state': {'inc': 30008503642980956324491363429807189605,\n",
       "     'state': 31513730584825711566815015828799514432},\n",
       "    'uinteger': 1833294560},\n",
       "   'datetime': 'Thu, 11 Feb 2021 03:12:55 GMT',\n",
       "   'f_african_american': 'Yes (including mixed)',\n",
       "   'f_crime_violence_screener_count': 'Low',\n",
       "   'f_electronic_monitoring': 'Yes',\n",
       "   'f_hispanic_descent': 'Yes',\n",
       "   'f_incarceration_days': 'Low (0-12)',\n",
       "   'f_local_site': '11-Cook County – Chicago',\n",
       "   'f_prior_opioid_overdose': 'Yes',\n",
       "   'f_prior_substance_use_treatment': 'Any MOUD treatment',\n",
       "   'f_probation_parole_community_supervision': 'Yes (1+ days)',\n",
       "   'f_sex': 'Male',\n",
       "   'f_substance_screener_symptoms': 'Low',\n",
       "   'f_substance_use_days': 'Low (0-12)',\n",
       "   'f_young_adult': 'Yes (18-25)',\n",
       "   'id': '12343423',\n",
       "   'trt': 'RMC-Q',\n",
       "   'user': 'api'}],\n",
       " 'status': 200}"
      ]
     },
     "execution_count": 47,
     "metadata": {},
     "output_type": "execute_result"
    }
   ],
   "source": [
    "response.json()"
   ]
  },
  {
   "cell_type": "code",
   "execution_count": null,
   "metadata": {},
   "outputs": [],
   "source": []
  }
 ],
 "metadata": {
  "kernelspec": {
   "display_name": "Python [conda env:urn] *",
   "language": "python",
   "name": "conda-env-urn-py"
  },
  "language_info": {
   "codemirror_mode": {
    "name": "ipython",
    "version": 3
   },
   "file_extension": ".py",
   "mimetype": "text/x-python",
   "name": "python",
   "nbconvert_exporter": "python",
   "pygments_lexer": "ipython3",
   "version": "3.8.5"
  }
 },
 "nbformat": 4,
 "nbformat_minor": 4
}
