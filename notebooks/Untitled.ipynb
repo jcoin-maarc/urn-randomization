{
 "cells": [
  {
   "cell_type": "code",
   "execution_count": 27,
   "metadata": {},
   "outputs": [],
   "source": [
    "with open(\"Interest\", 'r') as f:\n",
    "    lst = f.read()"
   ]
  },
  {
   "cell_type": "code",
   "execution_count": 28,
   "metadata": {},
   "outputs": [],
   "source": [
    "lstdct = []\n",
    "for entry in lst.split(\"\\n\\n\"):\n",
    "    dct_entry = dict()\n",
    "    i = 0\n",
    "    lst_val = entry.split(\"\\n\")\n",
    "    while i < len(lst_val):\n",
    "        if i == 0: \n",
    "            dct_entry['Description'] = lst_val[i]\n",
    "        elif i == 1:\n",
    "            dct_entry['Date'] = lst_val[i]\n",
    "        elif i == 2:\n",
    "            dct_entry['Effect'] = lst_val[i]\n",
    "        elif (i == 3) & (lst_val[i] not in ['Amount', 'Type']):\n",
    "            dct_entry['Notes'] = lst_val[i]\n",
    "        else:\n",
    "            dct_entry[lst_val[i]] = lst_val[i + 1]\n",
    "            i = i+2\n",
    "            continue\n",
    "        i = i+ 1\n",
    "    lstdct.append(dct_entry)"
   ]
  },
  {
   "cell_type": "code",
   "execution_count": 32,
   "metadata": {},
   "outputs": [],
   "source": [
    "import pandas as pd\n",
    "pd.DataFrame(lstdct).fillna(\"\").to_excel(\"RH_transactions.xlsx\", index=False)"
   ]
  },
  {
   "cell_type": "code",
   "execution_count": 25,
   "metadata": {},
   "outputs": [
    {
     "data": {
      "text/plain": [
       "{'Description': 'Ethereum Limit Buy',\n",
       " 'Date': 'Feb 1',\n",
       " 'Effect': 'Rejected',\n",
       " 'Type': 'Limit Buy',\n",
       " 'Submitted': 'Feb 1, 2021',\n",
       " 'Status': 'Rejected',\n",
       " 'Limit Price': '$1,100.00',\n",
       " 'Entered Amount': '$26,576.83',\n",
       " 'Filled Quantity': '0.00 Ethereum at —'}"
      ]
     },
     "execution_count": 25,
     "metadata": {},
     "output_type": "execute_result"
    }
   ],
   "source": [
    "dct_entry"
   ]
  },
  {
   "cell_type": "code",
   "execution_count": 26,
   "metadata": {},
   "outputs": [
    {
     "data": {
      "text/plain": [
       "'Ethereum Limit Buy\\nFeb 1\\nRejected\\nType\\nLimit Buy\\nSubmitted\\nFeb 1, 2021\\nStatus\\nRejected\\nLimit Price\\n$1,100.00\\nEntered Amount\\n$26,576.83\\nFilled Quantity\\n0.00 Ethereum at —\\nOlder'"
      ]
     },
     "execution_count": 26,
     "metadata": {},
     "output_type": "execute_result"
    }
   ],
   "source": [
    "entry"
   ]
  },
  {
   "cell_type": "code",
   "execution_count": null,
   "metadata": {},
   "outputs": [],
   "source": []
  }
 ],
 "metadata": {
  "kernelspec": {
   "display_name": "Python [conda env:py38] *",
   "language": "python",
   "name": "conda-env-py38-py"
  },
  "language_info": {
   "codemirror_mode": {
    "name": "ipython",
    "version": 3
   },
   "file_extension": ".py",
   "mimetype": "text/x-python",
   "name": "python",
   "nbconvert_exporter": "python",
   "pygments_lexer": "ipython3",
   "version": "3.8.5"
  }
 },
 "nbformat": 4,
 "nbformat_minor": 4
}
