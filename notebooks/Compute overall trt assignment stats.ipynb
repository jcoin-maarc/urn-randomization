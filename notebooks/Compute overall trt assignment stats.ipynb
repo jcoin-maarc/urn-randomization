{
 "cells": [
  {
   "cell_type": "code",
   "execution_count": 3,
   "metadata": {},
   "outputs": [],
   "source": [
    "import dask.dataframe as dd\n",
    "import os\n",
    "import scipy.stats as stats\n",
    "import numpy as np\n",
    "import hvplot.pandas\n",
    "import pandas as pd"
   ]
  },
  {
   "cell_type": "code",
   "execution_count": 4,
   "metadata": {},
   "outputs": [],
   "source": [
    "from dask.distributed import Client"
   ]
  },
  {
   "cell_type": "code",
   "execution_count": 5,
   "metadata": {},
   "outputs": [
    {
     "data": {
      "text/html": [
       "<table style=\"border: 2px solid white;\">\n",
       "<tr>\n",
       "<td style=\"vertical-align: top; border: 0px solid white\">\n",
       "<h3 style=\"text-align: left;\">Client</h3>\n",
       "<ul style=\"text-align: left; list-style: none; margin: 0; padding: 0;\">\n",
       "  <li><b>Scheduler: </b>tcp://127.0.0.1:9500</li>\n",
       "  <li><b>Dashboard: </b><a href='http://127.0.0.1:9501/status' target='_blank'>http://127.0.0.1:9501/status</a></li>\n",
       "</ul>\n",
       "</td>\n",
       "<td style=\"vertical-align: top; border: 0px solid white\">\n",
       "<h3 style=\"text-align: left;\">Cluster</h3>\n",
       "<ul style=\"text-align: left; list-style:none; margin: 0; padding: 0;\">\n",
       "  <li><b>Workers: </b>60</li>\n",
       "  <li><b>Cores: </b>180</li>\n",
       "  <li><b>Memory: </b>1.62 TB</li>\n",
       "</ul>\n",
       "</td>\n",
       "</tr>\n",
       "</table>"
      ],
      "text/plain": [
       "<Client: 'tcp://127.0.0.1:9500' processes=0 threads=0, memory=0 B>"
      ]
     },
     "execution_count": 5,
     "metadata": {},
     "output_type": "execute_result"
    }
   ],
   "source": [
    "client = Client(\"tcp://127.0.0.1:9500\")\n",
    "client.restart()"
   ]
  },
  {
   "cell_type": "code",
   "execution_count": 6,
   "metadata": {},
   "outputs": [],
   "source": [
    "simulation_data_folder = os.path.join('../tests/data/simulations')\n",
    "complete_random_folder = os.path.join(simulation_data_folder, 'jcoin_random')\n",
    "urn_random_folder = os.path.join(simulation_data_folder, 'jcoin_urn')\n",
    "range_folder = os.path.join(simulation_data_folder, 'd_range')\n",
    "b2folder = os.path.join(simulation_data_folder, 'b2')\n",
    "custom_d_folder = os.path.join(simulation_data_folder, 'jcoin_custom_d')"
   ]
  },
  {
   "cell_type": "code",
   "execution_count": 12,
   "metadata": {},
   "outputs": [],
   "source": [
    "def compute_study_level_trt_assignments(pdf, n_participants=2500):\n",
    "    pdf_stats = None\n",
    "    lst_trt = sorted(pdf.trt.unique().tolist())\n",
    "    for trial_no in pdf.trial_no.unique():\n",
    "        for n_participants in range(1, n_participants + 1):\n",
    "            pdf_trial_n = pdf.iloc[:n_participants, ]\n",
    "            pdf_trial_stats = pdf_trial_n.groupby('trt').size().reset_index(drop=False)\n",
    "            pdf_trial_stats = pdf_trial_stats.set_index('trt').T\n",
    "            pdf_trial_stats.columns = ['trt_' + str(col) for col in list(pdf_trial_stats.columns)]\n",
    "            pdf_trial_stats = pdf_trial_stats.reset_index(drop=True)\n",
    "            pdf_trial_stats['n_participants'] = n_participants\n",
    "            pdf_trial_stats['trial_no'] = trial_no\n",
    "            for trt in lst_trt:\n",
    "                if 'trt_{0}'.format(trt) not in pdf_trial_stats.columns:\n",
    "                    pdf_trial_stats['trt_{0}'.format(trt)] = 0\n",
    "            pdf_trial_stats = pdf_trial_stats[['n_participants', 'trial_no'] + ['trt_{0}'.format(trt) for trt in lst_trt]]\n",
    "            pdf_stats = pdf_trial_stats.copy() if pdf_stats is None else pd.concat([pdf_stats, pdf_trial_stats], ignore_index=True)\n",
    "    return pdf_stats"
   ]
  },
  {
   "cell_type": "code",
   "execution_count": 13,
   "metadata": {},
   "outputs": [
    {
     "name": "stdout",
     "output_type": "stream",
     "text": [
      "../tests/data/simulations/jcoin_random\n",
      "../tests/data/simulations/jcoin_urn\n",
      "../tests/data/simulations/d_range\n",
      "../tests/data/simulations/b2\n",
      "../tests/data/simulations/jcoin_custom_d\n"
     ]
    }
   ],
   "source": [
    "for simulation in [complete_random_folder, urn_random_folder, range_folder,b2folder, custom_d_folder ]:\n",
    "    print(simulation)\n",
    "    df_simulation_data = dd.read_csv([os.path.join(simulation, 'trial_{0}.csv'.format(trial_no))\n",
    "                                      for trial_no in range(1, 1001)])\n",
    "    df_simulation_data = df_simulation_data.set_index('trial_no', drop=False)\n",
    "    df_stats = df_simulation_data.map_partitions(lambda pdf: compute_study_level_trt_assignments(pdf, n_participants=2500),\n",
    "                                                   meta=pd.DataFrame(columns=['n_participants', 'trial_no'] + ['trt_{0}'.format(trt) for trt in sorted(df_simulation_data.head(1000).trt.unique().tolist())]))\n",
    "    df_stats.to_csv(os.path.join(simulation, 'overall_stats.csv'), index=False, single_file=True)"
   ]
  },
  {
   "cell_type": "code",
   "execution_count": null,
   "metadata": {},
   "outputs": [],
   "source": []
  }
 ],
 "metadata": {
  "kernelspec": {
   "display_name": "Python 3 (ipykernel)",
   "language": "python",
   "name": "python3"
  },
  "language_info": {
   "codemirror_mode": {
    "name": "ipython",
    "version": 3
   },
   "file_extension": ".py",
   "mimetype": "text/x-python",
   "name": "python",
   "nbconvert_exporter": "python",
   "pygments_lexer": "ipython3",
   "version": "3.9.11"
  }
 },
 "nbformat": 4,
 "nbformat_minor": 4
}
